{
 "cells": [
  {
   "cell_type": "code",
   "execution_count": 1,
   "metadata": {},
   "outputs": [],
   "source": [
    "from dataclasses import dataclass\n",
    "from pathlib import Path\n",
    "\n",
    "@dataclass(frozen=True)\n",
    "class DataIngestionConfig:\n",
    "  root_dir: Path\n",
    "  data_dir: Path\n",
    "  ncycles_param: int"
   ]
  },
  {
   "cell_type": "code",
   "execution_count": 7,
   "metadata": {},
   "outputs": [],
   "source": [
    "import os\n",
    "os.chdir(\"../\")"
   ]
  },
  {
   "cell_type": "code",
   "execution_count": 8,
   "metadata": {},
   "outputs": [
    {
     "name": "stdout",
     "output_type": "stream",
     "text": [
      "c:\\Users\\HC107157\\OneDrive - Qorvo\\Documents\\Qorvo\n"
     ]
    }
   ],
   "source": [
    "import os\n",
    "print(os.getcwd())"
   ]
  },
  {
   "cell_type": "code",
   "execution_count": 9,
   "metadata": {},
   "outputs": [
    {
     "ename": "ModuleNotFoundError",
     "evalue": "No module named 'box'",
     "output_type": "error",
     "traceback": [
      "\u001b[1;31m---------------------------------------------------------------------------\u001b[0m",
      "\u001b[1;31mModuleNotFoundError\u001b[0m                       Traceback (most recent call last)",
      "Cell \u001b[1;32mIn[9], line 2\u001b[0m\n\u001b[0;32m      1\u001b[0m \u001b[38;5;28;01mfrom\u001b[39;00m \u001b[38;5;21;01msrc\u001b[39;00m\u001b[38;5;21;01m.\u001b[39;00m\u001b[38;5;21;01mSOC_Prediction\u001b[39;00m\u001b[38;5;21;01m.\u001b[39;00m\u001b[38;5;21;01mconstants\u001b[39;00m \u001b[38;5;28;01mimport\u001b[39;00m \u001b[38;5;241m*\u001b[39m\n\u001b[1;32m----> 2\u001b[0m \u001b[38;5;28;01mfrom\u001b[39;00m \u001b[38;5;21;01msrc\u001b[39;00m\u001b[38;5;21;01m.\u001b[39;00m\u001b[38;5;21;01mSOC_Prediction\u001b[39;00m\u001b[38;5;21;01m.\u001b[39;00m\u001b[38;5;21;01mutils\u001b[39;00m\u001b[38;5;21;01m.\u001b[39;00m\u001b[38;5;21;01mcommon\u001b[39;00m \u001b[38;5;28;01mimport\u001b[39;00m read_yaml,create_directories\n",
      "File \u001b[1;32mc:\\Users\\HC107157\\OneDrive - Qorvo\\Documents\\Qorvo\\src\\SOC_Prediction\\utils\\common.py:2\u001b[0m\n\u001b[0;32m      1\u001b[0m \u001b[38;5;28;01mimport\u001b[39;00m \u001b[38;5;21;01mos\u001b[39;00m\n\u001b[1;32m----> 2\u001b[0m \u001b[38;5;28;01mfrom\u001b[39;00m \u001b[38;5;21;01mbox\u001b[39;00m\u001b[38;5;21;01m.\u001b[39;00m\u001b[38;5;21;01mexceptions\u001b[39;00m \u001b[38;5;28;01mimport\u001b[39;00m BoxValueError\n\u001b[0;32m      3\u001b[0m \u001b[38;5;28;01mimport\u001b[39;00m \u001b[38;5;21;01myaml\u001b[39;00m\n\u001b[0;32m      4\u001b[0m \u001b[38;5;28;01mfrom\u001b[39;00m \u001b[38;5;21;01mSOC_Prediction\u001b[39;00m \u001b[38;5;28;01mimport\u001b[39;00m logger\n",
      "\u001b[1;31mModuleNotFoundError\u001b[0m: No module named 'box'"
     ]
    }
   ],
   "source": [
    "from src.SOC_Prediction.constants import *\n",
    "from src.SOC_Prediction.utils.common import read_yaml,create_directories"
   ]
  },
  {
   "cell_type": "code",
   "execution_count": null,
   "metadata": {},
   "outputs": [],
   "source": [
    "class ConfigurationManager:\n",
    "    def __init__(self,config_filepath = CONFIG_FILE_PATH,params_filepath = PARAMS_FILE_PATH):\n",
    "        \n",
    "        self.config = read_yaml(CONFIG_FILE_PATH)\n",
    "        self.params = read_yaml(PARAMS_FILE_PATH)\n",
    "        \n",
    "        create_directories([self.config.artifacts_root])\n",
    "        \n",
    "    def get_data_ingestion_config(self) -> DataIngestionConfig:\n",
    "        config = self.config.data_ingestion\n",
    "\n",
    "        create_directories([config.root_dir])\n",
    "\n",
    "        data_ingestion_config = DataIngestionConfig(\n",
    "            root_dir=config.root_dir,\n",
    "            data_dir=config.data_dir,\n",
    "            ncycles_param = self.params.data_ingestion.n_cycles_per_temperature   \n",
    "        )\n",
    "\n",
    "        return data_ingestion_config"
   ]
  },
  {
   "cell_type": "code",
   "execution_count": null,
   "metadata": {},
   "outputs": [],
   "source": [
    "import os\n",
    "import pybamm\n",
    "import numpy as np\n",
    "import pandas as pd\n",
    "from SOC_Prediction import logger\n",
    "from SOC_Prediction.utils.common import get_size"
   ]
  },
  {
   "cell_type": "code",
   "execution_count": null,
   "metadata": {},
   "outputs": [],
   "source": [
    "class DataIngestion:\n",
    "    def __init__(self, config: DataIngestionConfig):\n",
    "        self.config = config\n",
    "        \n",
    "        \n",
    "    def term_charge_voltage(self, name):\n",
    "        match name:\n",
    "            case \"Ai2020\": return \"4.0\"\n",
    "            case \"Chen2020\": return \"4.05\"\n",
    "            case \"Marquis2019\": return \"3.85\"\n",
    "            case _: return \"4.00\"\n",
    "\n",
    "    def generate_data(self)-> str:\n",
    "        '''\n",
    "        Fetch data from the pybamm model\n",
    "        '''\n",
    "\n",
    "        try: \n",
    "            os.makedirs(\"artifacts/data_ingestion\", exist_ok=True)\n",
    "            rng = np.random.default_rng(1000)\n",
    "            param_set = [\"Marquis2019\",\"Ai2020\",\"Chen2020\"]\n",
    "            for chemistry in param_set:\n",
    "                # ===================================================================\n",
    "                # Model and Parameters\n",
    "                # ===================================================================\n",
    "                model = pybamm.lithium_ion.DFN()\n",
    "                params = pybamm.ParameterValues(param_set)\n",
    "\n",
    "\n",
    "\n",
    "                CV = self.term_charge_voltage(param_set)\n",
    "                tdrive1 = np.arange(7200)\n",
    "                cdrive1 = 1 * rng.random(7200)\n",
    "                drive_cycle1 = np.column_stack([tdrive1, cdrive1])\n",
    "\n",
    "                tdrive2 = np.arange(3600)\n",
    "                cdrive2 = 2 * rng.random(3600)\n",
    "                drive_cycle2 = np.column_stack([tdrive2, cdrive2])\n",
    "\n",
    "                tdrive3 = np.arange(1800)\n",
    "                cdrive3 = 4 * rng.random(1800)\n",
    "                drive_cycle3 = np.column_stack([tdrive3, cdrive3])\n",
    "                T = [10,25,35,-5]\n",
    "\n",
    "                for ta in T:\n",
    "                    params[\"Ambient temperature [K]\"] = ta + 273.15\n",
    "                    nom_cap = params[\"Nominal cell capacity [A.h]\"]\n",
    "\n",
    "\n",
    "                    exp = pybamm.Experiment([\"Rest for 10 minutes\",\n",
    "                                        pybamm.step.c_rate(drive_cycle1, termination=\"3.0V\"),\n",
    "                                        \"Rest for 20 minutes\",\n",
    "                                        (\"Charge at 2C until \" + CV + \" V\"),\n",
    "                                        (\"Hold at \" + CV + \" V until C/50\"),\n",
    "                                        \"Rest for 20 minutes\",\n",
    "                                        pybamm.step.c_rate(drive_cycle2, termination=\"3.0V\"),\n",
    "                                        \"Rest for 20 minutes\",\n",
    "                                        (\"Charge at 2C until \" + CV + \" V\"),\n",
    "                                        (\"Hold at \" + CV + \" V until C/50\"),\n",
    "                                        \"Rest for 20 minutes\",\n",
    "                                        pybamm.step.c_rate(drive_cycle3, termination=\"3.0V\"),\n",
    "                                        \"Rest for 20 minutes\",\n",
    "                                        (\"Charge at 2C until \" + CV + \" V\"),\n",
    "                                        (\"Hold at \" + CV + \" V until C/50\"),\n",
    "                                        \"Rest for 20 minutes\"]*self.config.ncycles_param,\n",
    "                                        period=\"1 seconds\")\n",
    "\n",
    "                    # ===================================================================\n",
    "                    # Simulation\n",
    "                    # ===================================================================\n",
    "                    sim = pybamm.Simulation(model, experiment=exp, parameter_values=params)\n",
    "                    sim.solve(initial_soc=0.8)\n",
    "                    # ===================================================================\n",
    "                    # Access Variables\n",
    "                    # ===================================================================\n",
    "                    sol = sim.solution\n",
    "                    t = sol[\"Time [s]\"].entries\n",
    "                    i = sol[\"C-rate\"].entries\n",
    "                    v = sol[\"Voltage [V]\"].entries\n",
    "                    Ta = sol[\"Ambient temperature [C]\"].entries\n",
    "                    s0 = nom_cap * 0.8\n",
    "                    s = (s0 - sol[\"Discharge capacity [A.h]\"].entries)/s0\n",
    "\n",
    "                    # ===================================================================\n",
    "                    # Save results to csv file\n",
    "                    # ===================================================================\n",
    "                    t = t.reshape((t.size, 1))\n",
    "                    i = i.reshape((i.size, 1))\n",
    "                    v = v.reshape((v.size, 1))\n",
    "                    Ta = Ta.reshape((Ta.size, 1))\n",
    "                    s = s.reshape((s.size, 1))\n",
    "                    f = np.concatenate((t, i, v, Ta, s), 1)\n",
    "                    header = \"time, c_rate, v, a_temp, soc\"\n",
    "                    np.savetxt(f\"{self.config.data_dir}/{chemistry}_rand_{abs(ta)}.csv\", f, delimiter=',', header=header)\n",
    "                data1 = pd.read_csv(f\"{self.config.data_dir}/{chemistry}_rand_{25}.csv\")\n",
    "                data2 = pd.read_csv(f\"{self.config.data_dir}/{chemistry}_rand_{10}.csv\")\n",
    "                data3 = pd.read_csv(f\"{self.config.data_dir}/{chemistry}_rand_{35}.csv\")\n",
    "                data4 = pd.read_csv(f\"{self.config.data_dir}/{chemistry}_rand_{5}.csv\")\n",
    "\n",
    "\n",
    "\n",
    "                data_merged = pd.concat([data1,data2,data3,data4],ignore_index=True)\n",
    "                data_merged.to_csv(f\"{self.config.data_dir}/{chemistry}_rand_{abs(ta)}.csv\",index = False)\n",
    "                logger.info(f\"Created data for {chemistry}\")\n",
    "\n",
    "        except Exception as e:\n",
    "            raise e"
   ]
  },
  {
   "cell_type": "code",
   "execution_count": null,
   "metadata": {},
   "outputs": [],
   "source": [
    "try:\n",
    "    config = ConfigurationManager()\n",
    "    data_ingestion_config = config.get_data_ingestion_config()\n",
    "    data_ingestion = DataIngestion(config=data_ingestion_config)\n",
    "    data_ingestion.generate_data()\n",
    "except Exception as e:\n",
    "    raise e"
   ]
  }
 ],
 "metadata": {
  "kernelspec": {
   "display_name": "qorvoenv",
   "language": "python",
   "name": "python3"
  },
  "language_info": {
   "codemirror_mode": {
    "name": "ipython",
    "version": 3
   },
   "file_extension": ".py",
   "mimetype": "text/x-python",
   "name": "python",
   "nbconvert_exporter": "python",
   "pygments_lexer": "ipython3",
   "version": "3.11.9"
  }
 },
 "nbformat": 4,
 "nbformat_minor": 2
}
